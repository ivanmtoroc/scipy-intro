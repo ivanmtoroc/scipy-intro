{
 "metadata": {
  "language_info": {
   "codemirror_mode": {
    "name": "ipython",
    "version": 3
   },
   "file_extension": ".py",
   "mimetype": "text/x-python",
   "name": "python",
   "nbconvert_exporter": "python",
   "pygments_lexer": "ipython3",
   "version": "3.8.5-final"
  },
  "orig_nbformat": 2,
  "kernelspec": {
   "name": "Python 3.8.5 64-bit ('.env': venv)",
   "display_name": "Python 3.8.5 64-bit ('.env': venv)",
   "metadata": {
    "interpreter": {
     "hash": "1eda70eb63267d6a504bae4891a6683f6e75cf0d73d057bbe2ec988b5593408d"
    }
   }
  }
 },
 "nbformat": 4,
 "nbformat_minor": 2,
 "cells": [
  {
   "source": [
    "# Gradient Boosting Trees"
   ],
   "cell_type": "markdown",
   "metadata": {}
  },
  {
   "cell_type": "code",
   "execution_count": 1,
   "metadata": {},
   "outputs": [],
   "source": [
    "# Import libraries\n",
    "import pandas as pd\n",
    "from sklearn.ensemble import GradientBoostingRegressor\n",
    "from sklearn.model_selection import cross_validate"
   ]
  },
  {
   "cell_type": "code",
   "execution_count": 2,
   "metadata": {},
   "outputs": [],
   "source": [
    "x = pd.read_csv(filepath_or_buffer=\"datasets/x_opening.csv\")\n",
    "\n",
    "y = x[\"worldwide_gross\"]\n",
    "x = x.drop(labels=[\"worldwide_gross\"], axis=1)"
   ]
  },
  {
   "cell_type": "code",
   "execution_count": 3,
   "metadata": {},
   "outputs": [
    {
     "output_type": "execute_result",
     "data": {
      "text/plain": [
       "{'fit_time': array([0.22762179, 0.23198605, 0.23313427, 0.23591375, 0.243783  ]),\n",
       " 'score_time': array([0.00211954, 0.00201702, 0.00194287, 0.00206256, 0.00195742]),\n",
       " 'test_score': array([0.45105331, 0.67331628, 0.60257539, 0.47191643, 0.42551781]),\n",
       " 'train_score': array([0.85244273, 0.93799879, 0.93092954, 0.92731936, 0.92700565])}"
      ]
     },
     "metadata": {},
     "execution_count": 3
    }
   ],
   "source": [
    "model = GradientBoostingRegressor()\n",
    "\n",
    "scores = cross_validate(estimator=model, X=x, y=y, cv=5, return_train_score=True)\n",
    "scores"
   ]
  },
  {
   "cell_type": "code",
   "execution_count": 4,
   "metadata": {},
   "outputs": [
    {
     "output_type": "stream",
     "name": "stdout",
     "text": [
      "0.9151392143549633\n0.5248758429239467\n"
     ]
    }
   ],
   "source": [
    "train_score = scores[\"train_score\"]\n",
    "test_score = scores[\"test_score\"]\n",
    "\n",
    "print(train_score.mean())\n",
    "print(test_score.mean())"
   ]
  }
 ]
}