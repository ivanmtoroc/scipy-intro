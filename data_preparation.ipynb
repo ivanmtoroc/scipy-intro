{
 "cells": [
  {
   "cell_type": "markdown",
   "metadata": {},
   "source": [
    "# Data preparation\n",
    "First step in the machine learning cycle."
   ]
  },
  {
   "cell_type": "code",
   "execution_count": 17,
   "metadata": {},
   "outputs": [],
   "source": [
    "# Import dependencies\n",
    "import numpy as np\n",
    "import pandas as pd\n",
    "import matplotlib.pyplot as plt\n",
    "import seaborn as sb"
   ]
  },
  {
   "cell_type": "code",
   "execution_count": 18,
   "metadata": {},
   "outputs": [],
   "source": [
    "# Add iPython magic\n",
    "%matplotlib inline"
   ]
  },
  {
   "cell_type": "markdown",
   "metadata": {},
   "source": [
    "## Load dataset\n",
    "Pandas allows a csv file to be loaded directly to a DataFrame structure with the function `pd.read_csv()`."
   ]
  },
  {
   "cell_type": "code",
   "execution_count": 19,
   "metadata": {},
   "outputs": [
    {
     "output_type": "execute_result",
     "data": {
      "text/plain": "                                            movie_title  title_year  color  \\\n0                                               Avatar       2009.0  Color   \n1             Pirates of the Caribbean: At World's End       2007.0  Color   \n2                                              Spectre       2015.0  Color   \n3                                The Dark Knight Rises       2012.0  Color   \n4     Star Wars: Episode VII - The Force Awakens    ...         NaN    NaN   \n...                                                 ...         ...    ...   \n5038                           Signed Sealed Delivered       2013.0  Color   \n5039                         The Following                      NaN  Color   \n5040                              A Plague So Pleasant       2013.0  Color   \n5041                                  Shanghai Calling       2012.0  Color   \n5042                                 My Date with Drew       2004.0  Color   \n\n      aspect_ratio  duration language country  duration.1  \\\n0             1.78     178.0  English     USA       178.0   \n1             2.35     169.0  English     USA       169.0   \n2             2.35     148.0  English      UK       148.0   \n3             2.35     164.0  English     USA       164.0   \n4              NaN       NaN      NaN     NaN         NaN   \n...            ...       ...      ...     ...         ...   \n5038           NaN      87.0  English  Canada        87.0   \n5039         16.00      43.0  English     USA        43.0   \n5040           NaN      76.0  English     USA        76.0   \n5041          2.35     100.0  English     USA       100.0   \n5042          1.85      90.0  English     USA        90.0   \n\n                               genres content_rating  \\\n0     Action|Adventure|Fantasy|Sci-Fi          PG-13   \n1            Action|Adventure|Fantasy          PG-13   \n2           Action|Adventure|Thriller          PG-13   \n3                     Action|Thriller          PG-13   \n4                         Documentary            NaN   \n...                               ...            ...   \n5038                     Comedy|Drama            NaN   \n5039     Crime|Drama|Mystery|Thriller          TV-14   \n5040            Drama|Horror|Thriller            NaN   \n5041             Comedy|Drama|Romance          PG-13   \n5042                      Documentary             PG   \n\n                                          plot_keywords      director_name  \\\n0                avatar|future|marine|native|paraplegic      James Cameron   \n1     goddess|marriage ceremony|marriage proposal|pi...     Gore Verbinski   \n2                   bomb|espionage|sequel|spy|terrorist         Sam Mendes   \n3     deception|imprisonment|lawlessness|police offi...  Christopher Nolan   \n4                                                   NaN        Doug Walker   \n...                                                 ...                ...   \n5038             fraud|postal worker|prison|theft|trial        Scott Smith   \n5039       cult|fbi|hideout|prison escape|serial killer                NaN   \n5040                                                NaN   Benjamin Roberds   \n5041                                                NaN        Daniel Hsia   \n5042  actress name in title|crush|date|four word tit...           Jon Gunn   \n\n         actor_1_name      actor_2_name          actor_3_name  \\\n0         CCH Pounder  Joel David Moore             Wes Studi   \n1         Johnny Depp     Orlando Bloom        Jack Davenport   \n2     Christoph Waltz      Rory Kinnear      Stephanie Sigman   \n3           Tom Hardy    Christian Bale  Joseph Gordon-Levitt   \n4         Doug Walker        Rob Walker                   NaN   \n...               ...               ...                   ...   \n5038      Eric Mabius     Daphne Zuniga          Crystal Lowe   \n5039      Natalie Zea     Valorie Curry         Sam Underwood   \n5040      Eva Boehnke     Maxwell Moody        David Chandler   \n5041        Alan Ruck     Daniel Henney           Eliza Coupe   \n5042      John August  Brian Herzlinger              Jon Gunn   \n\n      cast_total_facebook_likes       budget  imdb_score        gross  \n0                          4834  237000000.0         7.9  760505847.0  \n1                         48350  300000000.0         7.1  309404152.0  \n2                         11700  245000000.0         6.8  200074175.0  \n3                        106759  250000000.0         8.5  448130642.0  \n4                           143          NaN         7.1          NaN  \n...                         ...          ...         ...          ...  \n5038                       2283          NaN         7.7          NaN  \n5039                       1753          NaN         7.5          NaN  \n5040                          0       1400.0         6.3          NaN  \n5041                       2386          NaN         6.3      10443.0  \n5042                        163       1100.0         6.6      85222.0  \n\n[5043 rows x 19 columns]",
      "text/html": "<div>\n<style scoped>\n    .dataframe tbody tr th:only-of-type {\n        vertical-align: middle;\n    }\n\n    .dataframe tbody tr th {\n        vertical-align: top;\n    }\n\n    .dataframe thead th {\n        text-align: right;\n    }\n</style>\n<table border=\"1\" class=\"dataframe\">\n  <thead>\n    <tr style=\"text-align: right;\">\n      <th></th>\n      <th>movie_title</th>\n      <th>title_year</th>\n      <th>color</th>\n      <th>aspect_ratio</th>\n      <th>duration</th>\n      <th>language</th>\n      <th>country</th>\n      <th>duration.1</th>\n      <th>genres</th>\n      <th>content_rating</th>\n      <th>plot_keywords</th>\n      <th>director_name</th>\n      <th>actor_1_name</th>\n      <th>actor_2_name</th>\n      <th>actor_3_name</th>\n      <th>cast_total_facebook_likes</th>\n      <th>budget</th>\n      <th>imdb_score</th>\n      <th>gross</th>\n    </tr>\n  </thead>\n  <tbody>\n    <tr>\n      <th>0</th>\n      <td>Avatar</td>\n      <td>2009.0</td>\n      <td>Color</td>\n      <td>1.78</td>\n      <td>178.0</td>\n      <td>English</td>\n      <td>USA</td>\n      <td>178.0</td>\n      <td>Action|Adventure|Fantasy|Sci-Fi</td>\n      <td>PG-13</td>\n      <td>avatar|future|marine|native|paraplegic</td>\n      <td>James Cameron</td>\n      <td>CCH Pounder</td>\n      <td>Joel David Moore</td>\n      <td>Wes Studi</td>\n      <td>4834</td>\n      <td>237000000.0</td>\n      <td>7.9</td>\n      <td>760505847.0</td>\n    </tr>\n    <tr>\n      <th>1</th>\n      <td>Pirates of the Caribbean: At World's End</td>\n      <td>2007.0</td>\n      <td>Color</td>\n      <td>2.35</td>\n      <td>169.0</td>\n      <td>English</td>\n      <td>USA</td>\n      <td>169.0</td>\n      <td>Action|Adventure|Fantasy</td>\n      <td>PG-13</td>\n      <td>goddess|marriage ceremony|marriage proposal|pi...</td>\n      <td>Gore Verbinski</td>\n      <td>Johnny Depp</td>\n      <td>Orlando Bloom</td>\n      <td>Jack Davenport</td>\n      <td>48350</td>\n      <td>300000000.0</td>\n      <td>7.1</td>\n      <td>309404152.0</td>\n    </tr>\n    <tr>\n      <th>2</th>\n      <td>Spectre</td>\n      <td>2015.0</td>\n      <td>Color</td>\n      <td>2.35</td>\n      <td>148.0</td>\n      <td>English</td>\n      <td>UK</td>\n      <td>148.0</td>\n      <td>Action|Adventure|Thriller</td>\n      <td>PG-13</td>\n      <td>bomb|espionage|sequel|spy|terrorist</td>\n      <td>Sam Mendes</td>\n      <td>Christoph Waltz</td>\n      <td>Rory Kinnear</td>\n      <td>Stephanie Sigman</td>\n      <td>11700</td>\n      <td>245000000.0</td>\n      <td>6.8</td>\n      <td>200074175.0</td>\n    </tr>\n    <tr>\n      <th>3</th>\n      <td>The Dark Knight Rises</td>\n      <td>2012.0</td>\n      <td>Color</td>\n      <td>2.35</td>\n      <td>164.0</td>\n      <td>English</td>\n      <td>USA</td>\n      <td>164.0</td>\n      <td>Action|Thriller</td>\n      <td>PG-13</td>\n      <td>deception|imprisonment|lawlessness|police offi...</td>\n      <td>Christopher Nolan</td>\n      <td>Tom Hardy</td>\n      <td>Christian Bale</td>\n      <td>Joseph Gordon-Levitt</td>\n      <td>106759</td>\n      <td>250000000.0</td>\n      <td>8.5</td>\n      <td>448130642.0</td>\n    </tr>\n    <tr>\n      <th>4</th>\n      <td>Star Wars: Episode VII - The Force Awakens    ...</td>\n      <td>NaN</td>\n      <td>NaN</td>\n      <td>NaN</td>\n      <td>NaN</td>\n      <td>NaN</td>\n      <td>NaN</td>\n      <td>NaN</td>\n      <td>Documentary</td>\n      <td>NaN</td>\n      <td>NaN</td>\n      <td>Doug Walker</td>\n      <td>Doug Walker</td>\n      <td>Rob Walker</td>\n      <td>NaN</td>\n      <td>143</td>\n      <td>NaN</td>\n      <td>7.1</td>\n      <td>NaN</td>\n    </tr>\n    <tr>\n      <th>...</th>\n      <td>...</td>\n      <td>...</td>\n      <td>...</td>\n      <td>...</td>\n      <td>...</td>\n      <td>...</td>\n      <td>...</td>\n      <td>...</td>\n      <td>...</td>\n      <td>...</td>\n      <td>...</td>\n      <td>...</td>\n      <td>...</td>\n      <td>...</td>\n      <td>...</td>\n      <td>...</td>\n      <td>...</td>\n      <td>...</td>\n      <td>...</td>\n    </tr>\n    <tr>\n      <th>5038</th>\n      <td>Signed Sealed Delivered</td>\n      <td>2013.0</td>\n      <td>Color</td>\n      <td>NaN</td>\n      <td>87.0</td>\n      <td>English</td>\n      <td>Canada</td>\n      <td>87.0</td>\n      <td>Comedy|Drama</td>\n      <td>NaN</td>\n      <td>fraud|postal worker|prison|theft|trial</td>\n      <td>Scott Smith</td>\n      <td>Eric Mabius</td>\n      <td>Daphne Zuniga</td>\n      <td>Crystal Lowe</td>\n      <td>2283</td>\n      <td>NaN</td>\n      <td>7.7</td>\n      <td>NaN</td>\n    </tr>\n    <tr>\n      <th>5039</th>\n      <td>The Following</td>\n      <td>NaN</td>\n      <td>Color</td>\n      <td>16.00</td>\n      <td>43.0</td>\n      <td>English</td>\n      <td>USA</td>\n      <td>43.0</td>\n      <td>Crime|Drama|Mystery|Thriller</td>\n      <td>TV-14</td>\n      <td>cult|fbi|hideout|prison escape|serial killer</td>\n      <td>NaN</td>\n      <td>Natalie Zea</td>\n      <td>Valorie Curry</td>\n      <td>Sam Underwood</td>\n      <td>1753</td>\n      <td>NaN</td>\n      <td>7.5</td>\n      <td>NaN</td>\n    </tr>\n    <tr>\n      <th>5040</th>\n      <td>A Plague So Pleasant</td>\n      <td>2013.0</td>\n      <td>Color</td>\n      <td>NaN</td>\n      <td>76.0</td>\n      <td>English</td>\n      <td>USA</td>\n      <td>76.0</td>\n      <td>Drama|Horror|Thriller</td>\n      <td>NaN</td>\n      <td>NaN</td>\n      <td>Benjamin Roberds</td>\n      <td>Eva Boehnke</td>\n      <td>Maxwell Moody</td>\n      <td>David Chandler</td>\n      <td>0</td>\n      <td>1400.0</td>\n      <td>6.3</td>\n      <td>NaN</td>\n    </tr>\n    <tr>\n      <th>5041</th>\n      <td>Shanghai Calling</td>\n      <td>2012.0</td>\n      <td>Color</td>\n      <td>2.35</td>\n      <td>100.0</td>\n      <td>English</td>\n      <td>USA</td>\n      <td>100.0</td>\n      <td>Comedy|Drama|Romance</td>\n      <td>PG-13</td>\n      <td>NaN</td>\n      <td>Daniel Hsia</td>\n      <td>Alan Ruck</td>\n      <td>Daniel Henney</td>\n      <td>Eliza Coupe</td>\n      <td>2386</td>\n      <td>NaN</td>\n      <td>6.3</td>\n      <td>10443.0</td>\n    </tr>\n    <tr>\n      <th>5042</th>\n      <td>My Date with Drew</td>\n      <td>2004.0</td>\n      <td>Color</td>\n      <td>1.85</td>\n      <td>90.0</td>\n      <td>English</td>\n      <td>USA</td>\n      <td>90.0</td>\n      <td>Documentary</td>\n      <td>PG</td>\n      <td>actress name in title|crush|date|four word tit...</td>\n      <td>Jon Gunn</td>\n      <td>John August</td>\n      <td>Brian Herzlinger</td>\n      <td>Jon Gunn</td>\n      <td>163</td>\n      <td>1100.0</td>\n      <td>6.6</td>\n      <td>85222.0</td>\n    </tr>\n  </tbody>\n</table>\n<p>5043 rows × 19 columns</p>\n</div>"
     },
     "metadata": {},
     "execution_count": 19
    }
   ],
   "source": [
    "movies = pd.read_csv('./datasets/movies.csv')\n",
    "movies"
   ]
  },
  {
   "cell_type": "code",
   "execution_count": 20,
   "metadata": {},
   "outputs": [
    {
     "output_type": "execute_result",
     "data": {
      "text/plain": "(5043, 19)"
     },
     "metadata": {},
     "execution_count": 20
    }
   ],
   "source": [
    "movies.shape"
   ]
  },
  {
   "cell_type": "code",
   "execution_count": 21,
   "metadata": {},
   "outputs": [
    {
     "output_type": "execute_result",
     "data": {
      "text/plain": "Index(['movie_title', 'title_year', 'color', 'aspect_ratio', 'duration',\n       'language', 'country', 'duration.1', 'genres', 'content_rating',\n       'plot_keywords', 'director_name', 'actor_1_name', 'actor_2_name',\n       'actor_3_name', 'cast_total_facebook_likes', 'budget', 'imdb_score',\n       'gross'],\n      dtype='object')"
     },
     "metadata": {},
     "execution_count": 21
    }
   ],
   "source": [
    "# DataFrame columns\n",
    "movies.columns"
   ]
  },
  {
   "cell_type": "code",
   "execution_count": 22,
   "metadata": {},
   "outputs": [
    {
     "output_type": "execute_result",
     "data": {
      "text/plain": "RangeIndex(start=0, stop=5043, step=1)"
     },
     "metadata": {},
     "execution_count": 22
    }
   ],
   "source": [
    "# DataFrame index (rows)\n",
    "movies.index"
   ]
  },
  {
   "cell_type": "markdown",
   "metadata": {},
   "source": [
    "### Get columns and rows"
   ]
  },
  {
   "cell_type": "code",
   "execution_count": 23,
   "metadata": {},
   "outputs": [
    {
     "output_type": "execute_result",
     "data": {
      "text/plain": "0                                                 Avatar \n1               Pirates of the Caribbean: At World's End \n2                                                Spectre \n3                                  The Dark Knight Rises \n4       Star Wars: Episode VII - The Force Awakens    ...\n                              ...                        \n5038                             Signed Sealed Delivered \n5039                           The Following             \n5040                                A Plague So Pleasant \n5041                                    Shanghai Calling \n5042                                   My Date with Drew \nName: movie_title, Length: 5043, dtype: object"
     },
     "metadata": {},
     "execution_count": 23
    }
   ],
   "source": [
    "movies['movie_title']"
   ]
  },
  {
   "cell_type": "code",
   "execution_count": 24,
   "metadata": {},
   "outputs": [
    {
     "output_type": "execute_result",
     "data": {
      "text/plain": "movie_title                                Batman v Superman: Dawn of Justice \ntitle_year                                                                2016\ncolor                                                                    Color\naspect_ratio                                                              2.35\nduration                                                                   183\nlanguage                                                               English\ncountry                                                                    USA\nduration.1                                                                 183\ngenres                                                 Action|Adventure|Sci-Fi\ncontent_rating                                                           PG-13\nplot_keywords                based on comic book|batman|sequel to a reboot|...\ndirector_name                                                      Zack Snyder\nactor_1_name                                                      Henry Cavill\nactor_2_name                                                      Lauren Cohan\nactor_3_name                                                    Alan D. Purwin\ncast_total_facebook_likes                                                24450\nbudget                                                                 2.5e+08\nimdb_score                                                                 6.9\ngross                                                              3.30249e+08\nName: 10, dtype: object"
     },
     "metadata": {},
     "execution_count": 24
    }
   ],
   "source": [
    "movies.loc[10]"
   ]
  }
 ],
 "metadata": {
  "language_info": {
   "codemirror_mode": {
    "name": "ipython",
    "version": 3
   },
   "file_extension": ".py",
   "mimetype": "text/x-python",
   "name": "python",
   "nbconvert_exporter": "python",
   "pygments_lexer": "ipython3",
   "version": "3.6.9-final"
  },
  "orig_nbformat": 2,
  "kernelspec": {
   "name": "python36964bitenvvirtualenv8e9c7dc6d7d449d1a8f0f012847d5d9f",
   "display_name": "Python 3.6.9 64-bit ('.env': virtualenv)"
  }
 },
 "nbformat": 4,
 "nbformat_minor": 2
}