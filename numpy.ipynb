{
  "cells": [
    {
      "cell_type": "markdown",
      "metadata": {
        "id": "0JY4nMfunLzj",
        "colab_type": "text"
      },
      "source": [
        "# NumPy\n",
        "\n",
        "[NumPy](https://numpy.org/) is a fundamental tool to scientific computing."
      ]
    },
    {
      "cell_type": "code",
      "metadata": {
        "id": "75TDM0bDeJK2",
        "colab_type": "code",
        "colab": {}
      },
      "source": [
        "import numpy as np"
      ],
      "execution_count": 59,
      "outputs": []
    },
    {
      "cell_type": "markdown",
      "metadata": {
        "id": "McWNa8mFozvB",
        "colab_type": "text"
      },
      "source": [
        "## Arrays\n",
        "\n",
        "NumPy allows you to work with N-dimensional array objects."
      ]
    },
    {
      "cell_type": "markdown",
      "metadata": {
        "id": "jAMtg2VGQKcQ",
        "colab_type": "text"
      },
      "source": [
        "### Create arrays"
      ]
    },
    {
      "cell_type": "code",
      "metadata": {
        "id": "8Uedp_Eko3F9",
        "colab_type": "code",
        "outputId": "d3981351-c6bb-4bec-a595-4ae0f4f495b6",
        "colab": {
          "base_uri": "https://localhost:8080/",
          "height": 35
        }
      },
      "source": [
        "# Using a python list\n",
        "np.array([1, 2, 3, 4])"
      ],
      "execution_count": 60,
      "outputs": [
        {
          "output_type": "execute_result",
          "data": {
            "text/plain": "array([1, 2, 3, 4])"
          },
          "metadata": {},
          "execution_count": 60
        }
      ]
    },
    {
      "cell_type": "code",
      "metadata": {
        "id": "ftz1bzyhrGUn",
        "colab_type": "code",
        "outputId": "50a829f1-f46b-4013-d7eb-246d949cb4ad",
        "colab": {
          "base_uri": "https://localhost:8080/",
          "height": 35
        }
      },
      "source": [
        "# Using \"arange\" function\n",
        "np.arange(10)"
      ],
      "execution_count": 61,
      "outputs": [
        {
          "output_type": "execute_result",
          "data": {
            "text/plain": "array([0, 1, 2, 3, 4, 5, 6, 7, 8, 9])"
          },
          "metadata": {},
          "execution_count": 61
        }
      ]
    },
    {
      "cell_type": "code",
      "metadata": {
        "id": "hT5_SVrfrO7i",
        "colab_type": "code",
        "outputId": "8bc21518-a0c2-45aa-8be8-80c37dea9b86",
        "colab": {
          "base_uri": "https://localhost:8080/",
          "height": 143
        }
      },
      "source": [
        "# Using \"zeros\" function\n",
        "np.zeros((2, 3, 2))"
      ],
      "execution_count": 62,
      "outputs": [
        {
          "output_type": "execute_result",
          "data": {
            "text/plain": "array([[[0., 0.],\n        [0., 0.],\n        [0., 0.]],\n\n       [[0., 0.],\n        [0., 0.],\n        [0., 0.]]])"
          },
          "metadata": {},
          "execution_count": 62
        }
      ]
    },
    {
      "cell_type": "code",
      "metadata": {
        "id": "i_Ed6Habyic3",
        "colab_type": "code",
        "outputId": "43e53c10-6630-4295-bd45-98cb2e46a1bb",
        "colab": {
          "base_uri": "https://localhost:8080/",
          "height": 71
        }
      },
      "source": [
        "# Using \"ones\" function\n",
        "np.ones((3, 4))"
      ],
      "execution_count": 63,
      "outputs": [
        {
          "output_type": "execute_result",
          "data": {
            "text/plain": "array([[1., 1., 1., 1.],\n       [1., 1., 1., 1.],\n       [1., 1., 1., 1.]])"
          },
          "metadata": {},
          "execution_count": 63
        }
      ]
    },
    {
      "cell_type": "code",
      "metadata": {
        "id": "IX-P48zAK9-_",
        "colab_type": "code",
        "outputId": "870da3d2-2a64-443b-ffb6-facdbd32bf4f",
        "colab": {
          "base_uri": "https://localhost:8080/",
          "height": 35
        }
      },
      "source": [
        "# Using \"linspace\" function\n",
        "np.linspace(0, 1, 11)"
      ],
      "execution_count": 64,
      "outputs": [
        {
          "output_type": "execute_result",
          "data": {
            "text/plain": "array([0. , 0.1, 0.2, 0.3, 0.4, 0.5, 0.6, 0.7, 0.8, 0.9, 1. ])"
          },
          "metadata": {},
          "execution_count": 64
        }
      ]
    },
    {
      "cell_type": "markdown",
      "metadata": {
        "id": "3Q78_2AxPWRz",
        "colab_type": "text"
      },
      "source": [
        "### Dimension of arrays"
      ]
    },
    {
      "cell_type": "code",
      "metadata": {
        "id": "nEo8zf5lQ_m-",
        "colab_type": "code",
        "colab": {}
      },
      "source": [
        "# Get the dimension of an array (one dimension)\n",
        "one_dimension_array = np.array([1, 2, 3, 4, 5])\n",
        "one_dimension_array.shape"
      ],
      "execution_count": 65,
      "outputs": [
        {
          "output_type": "execute_result",
          "data": {
            "text/plain": "(5,)"
          },
          "metadata": {},
          "execution_count": 65
        }
      ]
    },
    {
      "cell_type": "code",
      "execution_count": 66,
      "metadata": {},
      "outputs": [
        {
          "output_type": "execute_result",
          "data": {
            "text/plain": "(1, 5)"
          },
          "metadata": {},
          "execution_count": 66
        }
      ],
      "source": [
        "# Get the dimension of an array (two dimension)\n",
        "two_dimension_array = np.array([[1, 2, 3, 4, 5]])\n",
        "two_dimension_array.shape"
      ]
    },
    {
      "cell_type": "code",
      "execution_count": 67,
      "metadata": {},
      "outputs": [
        {
          "output_type": "execute_result",
          "data": {
            "text/plain": "False"
          },
          "metadata": {},
          "execution_count": 67
        }
      ],
      "source": [
        "# Compare two arrays\n",
        "np.array_equal(one_dimension_array, two_dimension_array)"
      ]
    },
    {
      "cell_type": "code",
      "execution_count": 68,
      "metadata": {},
      "outputs": [
        {
          "output_type": "execute_result",
          "data": {
            "text/plain": "array([[1, 2, 3, 4, 5]])"
          },
          "metadata": {},
          "execution_count": 68
        }
      ],
      "source": [
        "# Reshape arrays\n",
        "new_shape = (1, one_dimension_array.shape[0])\n",
        "reshaped_array = one_dimension_array.reshape(new_shape)\n",
        "reshaped_array"
      ]
    },
    {
      "cell_type": "code",
      "execution_count": 69,
      "metadata": {},
      "outputs": [
        {
          "output_type": "execute_result",
          "data": {
            "text/plain": "True"
          },
          "metadata": {},
          "execution_count": 69
        }
      ],
      "source": [
        "# Compare two arrays\n",
        "np.array_equal(reshaped_array, two_dimension_array)"
      ]
    },
    {
      "cell_type": "markdown",
      "metadata": {},
      "source": [
        "### Slicing"
      ]
    },
    {
      "cell_type": "code",
      "execution_count": 72,
      "metadata": {},
      "outputs": [
        {
          "output_type": "execute_result",
          "data": {
            "text/plain": "array([[[0.65085465, 0.23172832],\n        [0.25821324, 0.82831371],\n        [0.86560912, 0.41165905]],\n\n       [[0.93139945, 0.76478715],\n        [0.02043667, 0.98179204],\n        [0.99082722, 0.81915868]]])"
          },
          "metadata": {},
          "execution_count": 72
        }
      ],
      "source": [
        "# Create random three dimensional array\n",
        "three_dimensional_array = np.random.rand(2, 3, 2)\n",
        "three_dimensional_array"
      ]
    },
    {
      "cell_type": "code",
      "execution_count": 85,
      "metadata": {},
      "outputs": [
        {
          "output_type": "execute_result",
          "data": {
            "text/plain": "array([[0.25821324, 0.86560912]])"
          },
          "metadata": {},
          "execution_count": 85
        }
      ],
      "source": [
        "# Using slicing with int and [:] notation\n",
        "three_dimensional_array[:1,1:,0]"
      ]
    }
  ],
  "metadata": {
    "colab": {
      "name": "numpy.ipynb",
      "provenance": [],
      "toc_visible": true
    },
    "kernelspec": {
      "name": "python36964bitenvvirtualenv8e9c7dc6d7d449d1a8f0f012847d5d9f",
      "display_name": "Python 3.6.9 64-bit ('.env': virtualenv)"
    }
  },
  "nbformat": 4,
  "nbformat_minor": 0
}