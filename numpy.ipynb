{
  "cells": [
    {
      "cell_type": "markdown",
      "metadata": {
        "id": "0JY4nMfunLzj",
        "colab_type": "text"
      },
      "source": [
        "# NumPy\n",
        "\n",
        "[NumPy](https://numpy.org/) is a fundamental tool to scientific computing."
      ]
    },
    {
      "cell_type": "code",
      "metadata": {
        "id": "75TDM0bDeJK2",
        "colab_type": "code",
        "colab": {}
      },
      "source": [
        "import numpy as np"
      ],
      "execution_count": 14,
      "outputs": []
    },
    {
      "cell_type": "markdown",
      "metadata": {
        "id": "McWNa8mFozvB",
        "colab_type": "text"
      },
      "source": [
        "## Arrays\n",
        "\n",
        "NumPy allows you to work with N-dimensional array objects."
      ]
    },
    {
      "cell_type": "markdown",
      "metadata": {
        "id": "jAMtg2VGQKcQ",
        "colab_type": "text"
      },
      "source": [
        "### Create arrays"
      ]
    },
    {
      "cell_type": "code",
      "metadata": {
        "id": "8Uedp_Eko3F9",
        "colab_type": "code",
        "outputId": "d3981351-c6bb-4bec-a595-4ae0f4f495b6",
        "colab": {
          "base_uri": "https://localhost:8080/",
          "height": 35
        }
      },
      "source": [
        "# Using a python list\n",
        "np.array([1, 2, 3, 4])"
      ],
      "execution_count": 15,
      "outputs": [
        {
          "output_type": "execute_result",
          "data": {
            "text/plain": "array([1, 2, 3, 4])"
          },
          "metadata": {},
          "execution_count": 15
        }
      ]
    },
    {
      "cell_type": "code",
      "metadata": {
        "id": "ftz1bzyhrGUn",
        "colab_type": "code",
        "outputId": "50a829f1-f46b-4013-d7eb-246d949cb4ad",
        "colab": {
          "base_uri": "https://localhost:8080/",
          "height": 35
        }
      },
      "source": [
        "# Using \"arange\" function\n",
        "np.arange(10)"
      ],
      "execution_count": 16,
      "outputs": [
        {
          "output_type": "execute_result",
          "data": {
            "text/plain": "array([0, 1, 2, 3, 4, 5, 6, 7, 8, 9])"
          },
          "metadata": {},
          "execution_count": 16
        }
      ]
    },
    {
      "cell_type": "code",
      "metadata": {
        "id": "hT5_SVrfrO7i",
        "colab_type": "code",
        "outputId": "8bc21518-a0c2-45aa-8be8-80c37dea9b86",
        "colab": {
          "base_uri": "https://localhost:8080/",
          "height": 143
        }
      },
      "source": [
        "# Using \"zeros\" function\n",
        "np.zeros((2, 3, 2))"
      ],
      "execution_count": 17,
      "outputs": [
        {
          "output_type": "execute_result",
          "data": {
            "text/plain": "array([[[0., 0.],\n        [0., 0.],\n        [0., 0.]],\n\n       [[0., 0.],\n        [0., 0.],\n        [0., 0.]]])"
          },
          "metadata": {},
          "execution_count": 17
        }
      ]
    },
    {
      "cell_type": "code",
      "metadata": {
        "id": "i_Ed6Habyic3",
        "colab_type": "code",
        "outputId": "43e53c10-6630-4295-bd45-98cb2e46a1bb",
        "colab": {
          "base_uri": "https://localhost:8080/",
          "height": 71
        }
      },
      "source": [
        "# Using \"ones\" function\n",
        "np.ones((3, 4))"
      ],
      "execution_count": 18,
      "outputs": [
        {
          "output_type": "execute_result",
          "data": {
            "text/plain": "array([[1., 1., 1., 1.],\n       [1., 1., 1., 1.],\n       [1., 1., 1., 1.]])"
          },
          "metadata": {},
          "execution_count": 18
        }
      ]
    },
    {
      "cell_type": "code",
      "metadata": {
        "id": "IX-P48zAK9-_",
        "colab_type": "code",
        "outputId": "870da3d2-2a64-443b-ffb6-facdbd32bf4f",
        "colab": {
          "base_uri": "https://localhost:8080/",
          "height": 35
        }
      },
      "source": [
        "# Using \"linspace\" function\n",
        "np.linspace(0, 1, 11)"
      ],
      "execution_count": 19,
      "outputs": [
        {
          "output_type": "execute_result",
          "data": {
            "text/plain": "array([0. , 0.1, 0.2, 0.3, 0.4, 0.5, 0.6, 0.7, 0.8, 0.9, 1. ])"
          },
          "metadata": {},
          "execution_count": 19
        }
      ]
    },
    {
      "cell_type": "markdown",
      "metadata": {
        "id": "3Q78_2AxPWRz",
        "colab_type": "text"
      },
      "source": [
        "### Dimension of arrays"
      ]
    },
    {
      "cell_type": "code",
      "metadata": {
        "id": "nEo8zf5lQ_m-",
        "colab_type": "code",
        "colab": {}
      },
      "source": [
        "# Get the dimension of an array (one dimension)\n",
        "one_dimension_array = np.array([1, 2, 3, 4, 5])\n",
        "one_dimension_array.shape"
      ],
      "execution_count": 20,
      "outputs": [
        {
          "output_type": "execute_result",
          "data": {
            "text/plain": "(5,)"
          },
          "metadata": {},
          "execution_count": 20
        }
      ]
    },
    {
      "cell_type": "code",
      "execution_count": 21,
      "metadata": {},
      "outputs": [
        {
          "output_type": "execute_result",
          "data": {
            "text/plain": "(1, 5)"
          },
          "metadata": {},
          "execution_count": 21
        }
      ],
      "source": [
        "# Get the dimension of an array (two dimension)\n",
        "two_dimension_array = np.array([[1, 2, 3, 4, 5]])\n",
        "two_dimension_array.shape"
      ]
    },
    {
      "cell_type": "code",
      "execution_count": 22,
      "metadata": {},
      "outputs": [
        {
          "output_type": "execute_result",
          "data": {
            "text/plain": "False"
          },
          "metadata": {},
          "execution_count": 22
        }
      ],
      "source": [
        "# Compare two arrays\n",
        "np.array_equal(one_dimension_array, two_dimension_array)"
      ]
    },
    {
      "cell_type": "code",
      "execution_count": 23,
      "metadata": {},
      "outputs": [
        {
          "output_type": "execute_result",
          "data": {
            "text/plain": "array([[1, 2, 3, 4, 5]])"
          },
          "metadata": {},
          "execution_count": 23
        }
      ],
      "source": [
        "# Reshape arrays\n",
        "new_shape = (1, one_dimension_array.shape[0])\n",
        "reshaped_array = one_dimension_array.reshape(new_shape)\n",
        "reshaped_array"
      ]
    },
    {
      "cell_type": "code",
      "execution_count": 24,
      "metadata": {},
      "outputs": [
        {
          "output_type": "execute_result",
          "data": {
            "text/plain": "True"
          },
          "metadata": {},
          "execution_count": 24
        }
      ],
      "source": [
        "# Compare two arrays\n",
        "np.array_equal(reshaped_array, two_dimension_array)"
      ]
    },
    {
      "cell_type": "markdown",
      "metadata": {},
      "source": [
        "### Slicing"
      ]
    },
    {
      "cell_type": "code",
      "execution_count": 25,
      "metadata": {},
      "outputs": [
        {
          "output_type": "execute_result",
          "data": {
            "text/plain": "array([[[1.58550226e-01, 5.21199239e-01],\n        [1.86042027e-01, 3.46493241e-01],\n        [1.16632535e-02, 6.85605871e-01]],\n\n       [[2.29623163e-04, 2.64774974e-01],\n        [6.75114512e-01, 3.09988444e-01],\n        [4.93028140e-01, 3.59521415e-01]]])"
          },
          "metadata": {},
          "execution_count": 25
        }
      ],
      "source": [
        "# Create random three dimensional array\n",
        "three_dimensional_array = np.random.rand(2, 3, 2)\n",
        "three_dimensional_array"
      ]
    },
    {
      "cell_type": "code",
      "execution_count": 26,
      "metadata": {},
      "outputs": [
        {
          "output_type": "execute_result",
          "data": {
            "text/plain": "array([[0.18604203, 0.01166325]])"
          },
          "metadata": {},
          "execution_count": 26
        }
      ],
      "source": [
        "# Using slicing with int and [:] notation\n",
        "three_dimensional_array[:1,1:,0]"
      ]
    },
    {
      "cell_type": "markdown",
      "metadata": {},
      "source": [
        "### Arithmetic operations"
      ]
    },
    {
      "cell_type": "code",
      "execution_count": 34,
      "metadata": {},
      "outputs": [
        {
          "output_type": "stream",
          "name": "stdout",
          "text": "array      = [0 1 2 3 4]\narray + 5  = [5 6 7 8 9]\narray - 1  = [-1  0  1  2  3]\narray / 5  = [0.  0.2 0.4 0.6 0.8]\narray // 2 = [0 0 1 1 2]\n-array     = [ 0 -1 -2 -3 -4]\narray ** 2 = [ 0  1  4  9 16]\narray % 2  = [0 1 0 1 0]\n"
        }
      ],
      "source": [
        "array = np.arange(5)\n",
        "print('array      =', array)\n",
        "print('array + 5  =', array + 5)\n",
        "print('array - 1  =', array - 1)\n",
        "print('array / 5  =', array / 5)\n",
        "print('array // 2 =', array // 2)\n",
        "print('-array     =', -array)\n",
        "print('array ** 2 =', array ** 2)\n",
        "print('array % 2  =', array % 2)"
      ]
    },
    {
      "cell_type": "markdown",
      "metadata": {},
      "source": [
        "\n",
        "| Operator | Universal functions (ufunc) |\n",
        "| -------- | -------------------------- |\n",
        "|``+``     | ``np.add()``               |\n",
        "|``-``     | ``np.subtract()``          |\n",
        "|``*``     | ``np.multiply()``          |\n",
        "\n",
        "**Note**: Universal functions are executed using compiled C code."
      ]
    }
  ],
  "metadata": {
    "colab": {
      "name": "numpy.ipynb",
      "provenance": [],
      "toc_visible": true
    },
    "kernelspec": {
      "name": "python36964bitenvvirtualenv8e9c7dc6d7d449d1a8f0f012847d5d9f",
      "display_name": "Python 3.6.9 64-bit ('.env': virtualenv)"
    }
  },
  "nbformat": 4,
  "nbformat_minor": 0
}