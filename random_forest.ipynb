{
 "metadata": {
  "language_info": {
   "codemirror_mode": {
    "name": "ipython",
    "version": 3
   },
   "file_extension": ".py",
   "mimetype": "text/x-python",
   "name": "python",
   "nbconvert_exporter": "python",
   "pygments_lexer": "ipython3",
   "version": "3.8.5-final"
  },
  "orig_nbformat": 2,
  "kernelspec": {
   "name": "Python 3.8.5 64-bit ('.env': venv)",
   "display_name": "Python 3.8.5 64-bit ('.env': venv)",
   "metadata": {
    "interpreter": {
     "hash": "1eda70eb63267d6a504bae4891a6683f6e75cf0d73d057bbe2ec988b5593408d"
    }
   }
  }
 },
 "nbformat": 4,
 "nbformat_minor": 2,
 "cells": [
  {
   "source": [
    "# Random forest"
   ],
   "cell_type": "markdown",
   "metadata": {}
  },
  {
   "cell_type": "code",
   "execution_count": 17,
   "metadata": {},
   "outputs": [],
   "source": [
    "# Import libraries\n",
    "import pandas as pd\n",
    "from sklearn.ensemble import RandomForestRegressor\n",
    "from sklearn.model_selection import cross_validate"
   ]
  },
  {
   "cell_type": "code",
   "execution_count": 3,
   "metadata": {},
   "outputs": [],
   "source": [
    "x = pd.read_csv(filepath_or_buffer=\"datasets/x_opening.csv\")\n",
    "\n",
    "y = x[\"worldwide_gross\"]\n",
    "x = x.drop(labels=[\"worldwide_gross\"], axis=1)"
   ]
  },
  {
   "cell_type": "code",
   "execution_count": 13,
   "metadata": {},
   "outputs": [
    {
     "output_type": "execute_result",
     "data": {
      "text/plain": [
       "{'fit_time': array([0.67021203, 0.69147897, 0.6985569 , 0.70219755, 0.70825124]),\n",
       " 'score_time': array([0.00967598, 0.01085377, 0.01102495, 0.01114488, 0.01080775]),\n",
       " 'test_score': array([0.48133771, 0.70295171, 0.55421331, 0.39748844, 0.43260134]),\n",
       " 'train_score': array([0.96059895, 0.96792252, 0.9624902 , 0.9612896 , 0.96558207])}"
      ]
     },
     "metadata": {},
     "execution_count": 13
    }
   ],
   "source": [
    "forest = RandomForestRegressor()\n",
    "\n",
    "scores = cross_validate(estimator=forest, X=x, y=y, cv=5, scoring='r2', return_train_score=True)\n",
    "scores"
   ]
  },
  {
   "cell_type": "code",
   "execution_count": 16,
   "metadata": {},
   "outputs": [
    {
     "output_type": "stream",
     "name": "stdout",
     "text": [
      "0.9635766691906504\n0.5137185030295985\n"
     ]
    }
   ],
   "source": [
    "train_score = scores[\"train_score\"]\n",
    "test_score = scores[\"test_score\"]\n",
    "\n",
    "print(train_score.mean())\n",
    "print(test_score.mean())"
   ]
  }
 ]
}