{
 "metadata": {
  "language_info": {
   "codemirror_mode": {
    "name": "ipython",
    "version": 3
   },
   "file_extension": ".py",
   "mimetype": "text/x-python",
   "name": "python",
   "nbconvert_exporter": "python",
   "pygments_lexer": "ipython3",
   "version": "3.8.5-final"
  },
  "orig_nbformat": 2,
  "kernelspec": {
   "name": "Python 3.8.5 64-bit ('.env': venv)",
   "display_name": "Python 3.8.5 64-bit ('.env': venv)",
   "metadata": {
    "interpreter": {
     "hash": "1eda70eb63267d6a504bae4891a6683f6e75cf0d73d057bbe2ec988b5593408d"
    }
   }
  }
 },
 "nbformat": 4,
 "nbformat_minor": 2,
 "cells": [
  {
   "source": [
    "# Decision tree"
   ],
   "cell_type": "markdown",
   "metadata": {}
  },
  {
   "cell_type": "code",
   "execution_count": 1,
   "metadata": {},
   "outputs": [],
   "source": [
    "# Import libraries\n",
    "import pandas as pd\n",
    "import graphviz\n",
    "from sklearn.model_selection import train_test_split\n",
    "from sklearn.tree import DecisionTreeRegressor, export_graphviz"
   ]
  },
  {
   "cell_type": "code",
   "execution_count": 2,
   "metadata": {},
   "outputs": [
    {
     "output_type": "execute_result",
     "data": {
      "text/plain": [
       "   production_budget  title_year  aspect_ratio  duration  \\\n",
       "0          425000000        2009          1.78       178   \n",
       "1          300000000        2007          2.35       169   \n",
       "2          300000000        2015          2.35       148   \n",
       "3          275000000        2012          2.35       164   \n",
       "4          275000000        2013          2.35       150   \n",
       "\n",
       "   cast_total_facebook_likes       budget  imdb_score  opening_gross  screens  \n",
       "0                       4834  237000000.0         7.9       77025481     3452  \n",
       "1                      48350  300000000.0         7.1      139802190     4362  \n",
       "2                      11700  245000000.0         6.8       70403148     3929  \n",
       "3                     106759  250000000.0         8.5      160887295     4404  \n",
       "4                      45757  215000000.0         6.5       29210849     3904  "
      ],
      "text/html": "<div>\n<style scoped>\n    .dataframe tbody tr th:only-of-type {\n        vertical-align: middle;\n    }\n\n    .dataframe tbody tr th {\n        vertical-align: top;\n    }\n\n    .dataframe thead th {\n        text-align: right;\n    }\n</style>\n<table border=\"1\" class=\"dataframe\">\n  <thead>\n    <tr style=\"text-align: right;\">\n      <th></th>\n      <th>production_budget</th>\n      <th>title_year</th>\n      <th>aspect_ratio</th>\n      <th>duration</th>\n      <th>cast_total_facebook_likes</th>\n      <th>budget</th>\n      <th>imdb_score</th>\n      <th>opening_gross</th>\n      <th>screens</th>\n    </tr>\n  </thead>\n  <tbody>\n    <tr>\n      <th>0</th>\n      <td>425000000</td>\n      <td>2009</td>\n      <td>1.78</td>\n      <td>178</td>\n      <td>4834</td>\n      <td>237000000.0</td>\n      <td>7.9</td>\n      <td>77025481</td>\n      <td>3452</td>\n    </tr>\n    <tr>\n      <th>1</th>\n      <td>300000000</td>\n      <td>2007</td>\n      <td>2.35</td>\n      <td>169</td>\n      <td>48350</td>\n      <td>300000000.0</td>\n      <td>7.1</td>\n      <td>139802190</td>\n      <td>4362</td>\n    </tr>\n    <tr>\n      <th>2</th>\n      <td>300000000</td>\n      <td>2015</td>\n      <td>2.35</td>\n      <td>148</td>\n      <td>11700</td>\n      <td>245000000.0</td>\n      <td>6.8</td>\n      <td>70403148</td>\n      <td>3929</td>\n    </tr>\n    <tr>\n      <th>3</th>\n      <td>275000000</td>\n      <td>2012</td>\n      <td>2.35</td>\n      <td>164</td>\n      <td>106759</td>\n      <td>250000000.0</td>\n      <td>8.5</td>\n      <td>160887295</td>\n      <td>4404</td>\n    </tr>\n    <tr>\n      <th>4</th>\n      <td>275000000</td>\n      <td>2013</td>\n      <td>2.35</td>\n      <td>150</td>\n      <td>45757</td>\n      <td>215000000.0</td>\n      <td>6.5</td>\n      <td>29210849</td>\n      <td>3904</td>\n    </tr>\n  </tbody>\n</table>\n</div>"
     },
     "metadata": {},
     "execution_count": 2
    }
   ],
   "source": [
    "x = pd.read_csv(filepath_or_buffer=\"datasets/x_opening.csv\")\n",
    "\n",
    "y = x[\"worldwide_gross\"]\n",
    "x = x.drop(labels=[\"worldwide_gross\"], axis=1)\n",
    "\n",
    "x.head()"
   ]
  },
  {
   "cell_type": "code",
   "execution_count": 3,
   "metadata": {},
   "outputs": [
    {
     "output_type": "execute_result",
     "data": {
      "text/plain": [
       "DecisionTreeRegressor()"
      ]
     },
     "metadata": {},
     "execution_count": 3
    }
   ],
   "source": [
    "x_train, x_test, y_train, y_test = train_test_split(x, y)\n",
    "\n",
    "model = DecisionTreeRegressor()\n",
    "\n",
    "model.fit(X=x_train, y=y_train)"
   ]
  },
  {
   "cell_type": "code",
   "execution_count": 4,
   "metadata": {},
   "outputs": [
    {
     "output_type": "execute_result",
     "data": {
      "text/plain": [
       "'digraph Tree {\\nnode [shape=box] ;\\n0 [label=\"opening_gross <= 39187220.0\\\\nmse = 4.140700335943947e+16\\\\nsamples = 1665\\\\nvalue = 134173634.951\"] ;\\n1 [label=\"opening_gross <= 20889952.0\\\\nmse = 1.1115020040676024e+16\\\\nsamples = 1495\\\\nvalue = 86318885.904\"] ;\\n0 -> 1 [labeldistance=2.5, labelangle=45, headlabel=\"True\"] ;\\n2 [label=\"opening_gross <= 11358725.5\\\\nmse = 4236139212863394.0\\\\nsamples = 1233\\\\nvalue = 60645884.902\"] ;\\n1 -> 2 ;\\n3 [label=\"(...)\"] ;\\n2 -> 3 ;\\n1660 [label=\"(...)\"] ;\\n2 -> 1660 ;\\n2441 [label=\"duration <= 182.5\\\\nmse = 2.578851435030984e+16\\\\nsamples = 262\\\\nvalue = 207138772.302\"] ;\\n1 -> 2441 ;\\n2442 [label=\"(...)\"] ;\\n2441 -> 2442 ;\\n2955 [label=\"(...)\"] ;\\n2441 -> 2955 ;\\n2956 [label=\"opening_gross <= 70227576.0\\\\nmse = 1.105525095297287e+17\\\\nsamples = 170\\\\nvalue = 555013928.035\"] ;\\n0 -> 2956 [labeldistance=2.5, labelangle=-45, headlabel=\"False\"] ;\\n2957 [label=\"production_budget <= 142500000.0\\\\nmse = 3.607853086105754e+16\\\\nsamples = 112\\\\nvalue = 413823607.857\"] ;\\n2956 -> 2957 ;\\n2958 [label=\"(...)\"] ;\\n2957 -> 2958 ;\\n3101 [label=\"(...)\"] ;\\n2957 -> 3101 ;\\n3178 [label=\"production_budget <= 362500000.0\\\\nmse = 1.4153531376368794e+17\\\\nsamples = 58\\\\nvalue = 827657304.931\"] ;\\n2956 -> 3178 ;\\n3179 [label=\"(...)\"] ;\\n3178 -> 3179 ;\\n3290 [label=\"(...)\"] ;\\n3178 -> 3290 ;\\n}'"
      ]
     },
     "metadata": {},
     "execution_count": 4
    }
   ],
   "source": [
    "treedot = export_graphviz(decision_tree=model, max_depth=2, feature_names=x.columns)\n",
    "treedot"
   ]
  },
  {
   "cell_type": "code",
   "execution_count": 5,
   "metadata": {},
   "outputs": [
    {
     "output_type": "execute_result",
     "data": {
      "text/plain": [
       "<graphviz.files.Source at 0x7f2dce472340>"
      ],
      "image/svg+xml": "<?xml version=\"1.0\" encoding=\"UTF-8\" standalone=\"no\"?>\n<!DOCTYPE svg PUBLIC \"-//W3C//DTD SVG 1.1//EN\"\n \"http://www.w3.org/Graphics/SVG/1.1/DTD/svg11.dtd\">\n<!-- Generated by graphviz version 2.43.0 (0)\n -->\n<!-- Title: Tree Pages: 1 -->\n<svg width=\"1110pt\" height=\"356pt\"\n viewBox=\"0.00 0.00 1110.00 356.00\" xmlns=\"http://www.w3.org/2000/svg\" xmlns:xlink=\"http://www.w3.org/1999/xlink\">\n<g id=\"graph0\" class=\"graph\" transform=\"scale(1 1) rotate(0) translate(4 352)\">\n<title>Tree</title>\n<polygon fill=\"white\" stroke=\"transparent\" points=\"-4,4 -4,-352 1106,-352 1106,4 -4,4\"/>\n<!-- 0 -->\n<g id=\"node1\" class=\"node\">\n<title>0</title>\n<polygon fill=\"none\" stroke=\"black\" points=\"652,-348 398,-348 398,-280 652,-280 652,-348\"/>\n<text text-anchor=\"middle\" x=\"525\" y=\"-332.8\" font-family=\"Times,serif\" font-size=\"14.00\">opening_gross &lt;= 39187220.0</text>\n<text text-anchor=\"middle\" x=\"525\" y=\"-317.8\" font-family=\"Times,serif\" font-size=\"14.00\">mse = 4.140700335943947e+16</text>\n<text text-anchor=\"middle\" x=\"525\" y=\"-302.8\" font-family=\"Times,serif\" font-size=\"14.00\">samples = 1665</text>\n<text text-anchor=\"middle\" x=\"525\" y=\"-287.8\" font-family=\"Times,serif\" font-size=\"14.00\">value = 134173634.951</text>\n</g>\n<!-- 1 -->\n<g id=\"node2\" class=\"node\">\n<title>1</title>\n<polygon fill=\"none\" stroke=\"black\" points=\"514.5,-244 251.5,-244 251.5,-176 514.5,-176 514.5,-244\"/>\n<text text-anchor=\"middle\" x=\"383\" y=\"-228.8\" font-family=\"Times,serif\" font-size=\"14.00\">opening_gross &lt;= 20889952.0</text>\n<text text-anchor=\"middle\" x=\"383\" y=\"-213.8\" font-family=\"Times,serif\" font-size=\"14.00\">mse = 1.1115020040676024e+16</text>\n<text text-anchor=\"middle\" x=\"383\" y=\"-198.8\" font-family=\"Times,serif\" font-size=\"14.00\">samples = 1495</text>\n<text text-anchor=\"middle\" x=\"383\" y=\"-183.8\" font-family=\"Times,serif\" font-size=\"14.00\">value = 86318885.904</text>\n</g>\n<!-- 0&#45;&gt;1 -->\n<g id=\"edge1\" class=\"edge\">\n<title>0&#45;&gt;1</title>\n<path fill=\"none\" stroke=\"black\" d=\"M478.9,-279.88C465.75,-270.44 451.3,-260.06 437.7,-250.29\"/>\n<polygon fill=\"black\" stroke=\"black\" points=\"439.52,-247.29 429.36,-244.3 435.44,-252.98 439.52,-247.29\"/>\n<text text-anchor=\"middle\" x=\"433.4\" y=\"-265.27\" font-family=\"Times,serif\" font-size=\"14.00\">True</text>\n</g>\n<!-- 2956 -->\n<g id=\"node9\" class=\"node\">\n<title>2956</title>\n<polygon fill=\"none\" stroke=\"black\" points=\"794,-244 540,-244 540,-176 794,-176 794,-244\"/>\n<text text-anchor=\"middle\" x=\"667\" y=\"-228.8\" font-family=\"Times,serif\" font-size=\"14.00\">opening_gross &lt;= 70227576.0</text>\n<text text-anchor=\"middle\" x=\"667\" y=\"-213.8\" font-family=\"Times,serif\" font-size=\"14.00\">mse = 1.105525095297287e+17</text>\n<text text-anchor=\"middle\" x=\"667\" y=\"-198.8\" font-family=\"Times,serif\" font-size=\"14.00\">samples = 170</text>\n<text text-anchor=\"middle\" x=\"667\" y=\"-183.8\" font-family=\"Times,serif\" font-size=\"14.00\">value = 555013928.035</text>\n</g>\n<!-- 0&#45;&gt;2956 -->\n<g id=\"edge8\" class=\"edge\">\n<title>0&#45;&gt;2956</title>\n<path fill=\"none\" stroke=\"black\" d=\"M571.1,-279.88C584.25,-270.44 598.7,-260.06 612.3,-250.29\"/>\n<polygon fill=\"black\" stroke=\"black\" points=\"614.56,-252.98 620.64,-244.3 610.48,-247.29 614.56,-252.98\"/>\n<text text-anchor=\"middle\" x=\"616.6\" y=\"-265.27\" font-family=\"Times,serif\" font-size=\"14.00\">False</text>\n</g>\n<!-- 2 -->\n<g id=\"node3\" class=\"node\">\n<title>2</title>\n<polygon fill=\"none\" stroke=\"black\" points=\"238,-140 0,-140 0,-72 238,-72 238,-140\"/>\n<text text-anchor=\"middle\" x=\"119\" y=\"-124.8\" font-family=\"Times,serif\" font-size=\"14.00\">opening_gross &lt;= 11358725.5</text>\n<text text-anchor=\"middle\" x=\"119\" y=\"-109.8\" font-family=\"Times,serif\" font-size=\"14.00\">mse = 4236139212863394.0</text>\n<text text-anchor=\"middle\" x=\"119\" y=\"-94.8\" font-family=\"Times,serif\" font-size=\"14.00\">samples = 1233</text>\n<text text-anchor=\"middle\" x=\"119\" y=\"-79.8\" font-family=\"Times,serif\" font-size=\"14.00\">value = 60645884.902</text>\n</g>\n<!-- 1&#45;&gt;2 -->\n<g id=\"edge2\" class=\"edge\">\n<title>1&#45;&gt;2</title>\n<path fill=\"none\" stroke=\"black\" d=\"M297.29,-175.88C270.75,-165.63 241.37,-154.28 214.23,-143.79\"/>\n<polygon fill=\"black\" stroke=\"black\" points=\"215.32,-140.46 204.73,-140.12 212.8,-146.99 215.32,-140.46\"/>\n</g>\n<!-- 2441 -->\n<g id=\"node6\" class=\"node\">\n<title>2441</title>\n<polygon fill=\"none\" stroke=\"black\" points=\"510,-140 256,-140 256,-72 510,-72 510,-140\"/>\n<text text-anchor=\"middle\" x=\"383\" y=\"-124.8\" font-family=\"Times,serif\" font-size=\"14.00\">duration &lt;= 182.5</text>\n<text text-anchor=\"middle\" x=\"383\" y=\"-109.8\" font-family=\"Times,serif\" font-size=\"14.00\">mse = 2.578851435030984e+16</text>\n<text text-anchor=\"middle\" x=\"383\" y=\"-94.8\" font-family=\"Times,serif\" font-size=\"14.00\">samples = 262</text>\n<text text-anchor=\"middle\" x=\"383\" y=\"-79.8\" font-family=\"Times,serif\" font-size=\"14.00\">value = 207138772.302</text>\n</g>\n<!-- 1&#45;&gt;2441 -->\n<g id=\"edge5\" class=\"edge\">\n<title>1&#45;&gt;2441</title>\n<path fill=\"none\" stroke=\"black\" d=\"M383,-175.88C383,-167.78 383,-158.98 383,-150.47\"/>\n<polygon fill=\"black\" stroke=\"black\" points=\"386.5,-150.3 383,-140.3 379.5,-150.3 386.5,-150.3\"/>\n</g>\n<!-- 3 -->\n<g id=\"node4\" class=\"node\">\n<title>3</title>\n<polygon fill=\"none\" stroke=\"black\" points=\"110,-36 56,-36 56,0 110,0 110,-36\"/>\n<text text-anchor=\"middle\" x=\"83\" y=\"-14.3\" font-family=\"Times,serif\" font-size=\"14.00\">(...)</text>\n</g>\n<!-- 2&#45;&gt;3 -->\n<g id=\"edge3\" class=\"edge\">\n<title>2&#45;&gt;3</title>\n<path fill=\"none\" stroke=\"black\" d=\"M105.18,-72C101.54,-63.28 97.64,-53.98 94.16,-45.65\"/>\n<polygon fill=\"black\" stroke=\"black\" points=\"97.38,-44.28 90.29,-36.4 90.92,-46.98 97.38,-44.28\"/>\n</g>\n<!-- 1660 -->\n<g id=\"node5\" class=\"node\">\n<title>1660</title>\n<polygon fill=\"none\" stroke=\"black\" points=\"182,-36 128,-36 128,0 182,0 182,-36\"/>\n<text text-anchor=\"middle\" x=\"155\" y=\"-14.3\" font-family=\"Times,serif\" font-size=\"14.00\">(...)</text>\n</g>\n<!-- 2&#45;&gt;1660 -->\n<g id=\"edge4\" class=\"edge\">\n<title>2&#45;&gt;1660</title>\n<path fill=\"none\" stroke=\"black\" d=\"M132.82,-72C136.46,-63.28 140.36,-53.98 143.84,-45.65\"/>\n<polygon fill=\"black\" stroke=\"black\" points=\"147.08,-46.98 147.71,-36.4 140.62,-44.28 147.08,-46.98\"/>\n</g>\n<!-- 2442 -->\n<g id=\"node7\" class=\"node\">\n<title>2442</title>\n<polygon fill=\"none\" stroke=\"black\" points=\"374,-36 320,-36 320,0 374,0 374,-36\"/>\n<text text-anchor=\"middle\" x=\"347\" y=\"-14.3\" font-family=\"Times,serif\" font-size=\"14.00\">(...)</text>\n</g>\n<!-- 2441&#45;&gt;2442 -->\n<g id=\"edge6\" class=\"edge\">\n<title>2441&#45;&gt;2442</title>\n<path fill=\"none\" stroke=\"black\" d=\"M369.18,-72C365.54,-63.28 361.64,-53.98 358.16,-45.65\"/>\n<polygon fill=\"black\" stroke=\"black\" points=\"361.38,-44.28 354.29,-36.4 354.92,-46.98 361.38,-44.28\"/>\n</g>\n<!-- 2955 -->\n<g id=\"node8\" class=\"node\">\n<title>2955</title>\n<polygon fill=\"none\" stroke=\"black\" points=\"446,-36 392,-36 392,0 446,0 446,-36\"/>\n<text text-anchor=\"middle\" x=\"419\" y=\"-14.3\" font-family=\"Times,serif\" font-size=\"14.00\">(...)</text>\n</g>\n<!-- 2441&#45;&gt;2955 -->\n<g id=\"edge7\" class=\"edge\">\n<title>2441&#45;&gt;2955</title>\n<path fill=\"none\" stroke=\"black\" d=\"M396.82,-72C400.46,-63.28 404.36,-53.98 407.84,-45.65\"/>\n<polygon fill=\"black\" stroke=\"black\" points=\"411.08,-46.98 411.71,-36.4 404.62,-44.28 411.08,-46.98\"/>\n</g>\n<!-- 2957 -->\n<g id=\"node10\" class=\"node\">\n<title>2957</title>\n<polygon fill=\"none\" stroke=\"black\" points=\"806,-140 528,-140 528,-72 806,-72 806,-140\"/>\n<text text-anchor=\"middle\" x=\"667\" y=\"-124.8\" font-family=\"Times,serif\" font-size=\"14.00\">production_budget &lt;= 142500000.0</text>\n<text text-anchor=\"middle\" x=\"667\" y=\"-109.8\" font-family=\"Times,serif\" font-size=\"14.00\">mse = 3.607853086105754e+16</text>\n<text text-anchor=\"middle\" x=\"667\" y=\"-94.8\" font-family=\"Times,serif\" font-size=\"14.00\">samples = 112</text>\n<text text-anchor=\"middle\" x=\"667\" y=\"-79.8\" font-family=\"Times,serif\" font-size=\"14.00\">value = 413823607.857</text>\n</g>\n<!-- 2956&#45;&gt;2957 -->\n<g id=\"edge9\" class=\"edge\">\n<title>2956&#45;&gt;2957</title>\n<path fill=\"none\" stroke=\"black\" d=\"M667,-175.88C667,-167.78 667,-158.98 667,-150.47\"/>\n<polygon fill=\"black\" stroke=\"black\" points=\"670.5,-150.3 667,-140.3 663.5,-150.3 670.5,-150.3\"/>\n</g>\n<!-- 3178 -->\n<g id=\"node13\" class=\"node\">\n<title>3178</title>\n<polygon fill=\"none\" stroke=\"black\" points=\"1102,-140 824,-140 824,-72 1102,-72 1102,-140\"/>\n<text text-anchor=\"middle\" x=\"963\" y=\"-124.8\" font-family=\"Times,serif\" font-size=\"14.00\">production_budget &lt;= 362500000.0</text>\n<text text-anchor=\"middle\" x=\"963\" y=\"-109.8\" font-family=\"Times,serif\" font-size=\"14.00\">mse = 1.4153531376368794e+17</text>\n<text text-anchor=\"middle\" x=\"963\" y=\"-94.8\" font-family=\"Times,serif\" font-size=\"14.00\">samples = 58</text>\n<text text-anchor=\"middle\" x=\"963\" y=\"-79.8\" font-family=\"Times,serif\" font-size=\"14.00\">value = 827657304.931</text>\n</g>\n<!-- 2956&#45;&gt;3178 -->\n<g id=\"edge12\" class=\"edge\">\n<title>2956&#45;&gt;3178</title>\n<path fill=\"none\" stroke=\"black\" d=\"M763.1,-175.88C793.32,-165.47 826.84,-153.92 857.65,-143.3\"/>\n<polygon fill=\"black\" stroke=\"black\" points=\"858.81,-146.6 867.13,-140.04 856.53,-139.99 858.81,-146.6\"/>\n</g>\n<!-- 2958 -->\n<g id=\"node11\" class=\"node\">\n<title>2958</title>\n<polygon fill=\"none\" stroke=\"black\" points=\"658,-36 604,-36 604,0 658,0 658,-36\"/>\n<text text-anchor=\"middle\" x=\"631\" y=\"-14.3\" font-family=\"Times,serif\" font-size=\"14.00\">(...)</text>\n</g>\n<!-- 2957&#45;&gt;2958 -->\n<g id=\"edge10\" class=\"edge\">\n<title>2957&#45;&gt;2958</title>\n<path fill=\"none\" stroke=\"black\" d=\"M653.18,-72C649.54,-63.28 645.64,-53.98 642.16,-45.65\"/>\n<polygon fill=\"black\" stroke=\"black\" points=\"645.38,-44.28 638.29,-36.4 638.92,-46.98 645.38,-44.28\"/>\n</g>\n<!-- 3101 -->\n<g id=\"node12\" class=\"node\">\n<title>3101</title>\n<polygon fill=\"none\" stroke=\"black\" points=\"730,-36 676,-36 676,0 730,0 730,-36\"/>\n<text text-anchor=\"middle\" x=\"703\" y=\"-14.3\" font-family=\"Times,serif\" font-size=\"14.00\">(...)</text>\n</g>\n<!-- 2957&#45;&gt;3101 -->\n<g id=\"edge11\" class=\"edge\">\n<title>2957&#45;&gt;3101</title>\n<path fill=\"none\" stroke=\"black\" d=\"M680.82,-72C684.46,-63.28 688.36,-53.98 691.84,-45.65\"/>\n<polygon fill=\"black\" stroke=\"black\" points=\"695.08,-46.98 695.71,-36.4 688.62,-44.28 695.08,-46.98\"/>\n</g>\n<!-- 3179 -->\n<g id=\"node14\" class=\"node\">\n<title>3179</title>\n<polygon fill=\"none\" stroke=\"black\" points=\"954,-36 900,-36 900,0 954,0 954,-36\"/>\n<text text-anchor=\"middle\" x=\"927\" y=\"-14.3\" font-family=\"Times,serif\" font-size=\"14.00\">(...)</text>\n</g>\n<!-- 3178&#45;&gt;3179 -->\n<g id=\"edge13\" class=\"edge\">\n<title>3178&#45;&gt;3179</title>\n<path fill=\"none\" stroke=\"black\" d=\"M949.18,-72C945.54,-63.28 941.64,-53.98 938.16,-45.65\"/>\n<polygon fill=\"black\" stroke=\"black\" points=\"941.38,-44.28 934.29,-36.4 934.92,-46.98 941.38,-44.28\"/>\n</g>\n<!-- 3290 -->\n<g id=\"node15\" class=\"node\">\n<title>3290</title>\n<polygon fill=\"none\" stroke=\"black\" points=\"1026,-36 972,-36 972,0 1026,0 1026,-36\"/>\n<text text-anchor=\"middle\" x=\"999\" y=\"-14.3\" font-family=\"Times,serif\" font-size=\"14.00\">(...)</text>\n</g>\n<!-- 3178&#45;&gt;3290 -->\n<g id=\"edge14\" class=\"edge\">\n<title>3178&#45;&gt;3290</title>\n<path fill=\"none\" stroke=\"black\" d=\"M976.82,-72C980.46,-63.28 984.36,-53.98 987.84,-45.65\"/>\n<polygon fill=\"black\" stroke=\"black\" points=\"991.08,-46.98 991.71,-36.4 984.62,-44.28 991.08,-46.98\"/>\n</g>\n</g>\n</svg>\n"
     },
     "metadata": {},
     "execution_count": 5
    }
   ],
   "source": [
    "graphviz.Source(treedot)"
   ]
  }
 ]
}