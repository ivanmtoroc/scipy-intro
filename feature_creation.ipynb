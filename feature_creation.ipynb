{
 "metadata": {
  "language_info": {
   "codemirror_mode": {
    "name": "ipython",
    "version": 3
   },
   "file_extension": ".py",
   "mimetype": "text/x-python",
   "name": "python",
   "nbconvert_exporter": "python",
   "pygments_lexer": "ipython3",
   "version": "3.8.5-final"
  },
  "orig_nbformat": 2,
  "kernelspec": {
   "name": "Python 3.8.5 64-bit ('.env': venv)",
   "display_name": "Python 3.8.5 64-bit ('.env': venv)",
   "metadata": {
    "interpreter": {
     "hash": "1eda70eb63267d6a504bae4891a6683f6e75cf0d73d057bbe2ec988b5593408d"
    }
   }
  }
 },
 "nbformat": 4,
 "nbformat_minor": 2,
 "cells": [
  {
   "source": [
    "# Feature creation"
   ],
   "cell_type": "markdown",
   "metadata": {}
  },
  {
   "cell_type": "code",
   "execution_count": 1,
   "metadata": {},
   "outputs": [],
   "source": [
    "# Import libraries\n",
    "import pandas as pd\n",
    "import numpy as np\n",
    "from sklearn.model_selection import train_test_split\n",
    "from sklearn.linear_model import Lasso\n",
    "from sklearn.preprocessing import StandardScaler"
   ]
  },
  {
   "cell_type": "code",
   "execution_count": 2,
   "metadata": {},
   "outputs": [],
   "source": [
    "# Add iPython magic to print charts\n",
    "%matplotlib inline"
   ]
  },
  {
   "source": [
    "## Data escalation"
   ],
   "cell_type": "markdown",
   "metadata": {}
  },
  {
   "cell_type": "code",
   "execution_count": 3,
   "metadata": {},
   "outputs": [],
   "source": [
    "x = pd.read_csv(filepath_or_buffer=\"datasets/x.csv\").drop(labels=[\"gross\"], axis=1)\n",
    "\n",
    "y = x[\"worldwide_gross\"]\n",
    "x = x.drop(labels=[\"worldwide_gross\"], axis=1)"
   ]
  },
  {
   "cell_type": "code",
   "execution_count": 4,
   "metadata": {},
   "outputs": [
    {
     "output_type": "execute_result",
     "data": {
      "text/plain": [
       "StandardScaler()"
      ]
     },
     "metadata": {},
     "execution_count": 4
    }
   ],
   "source": [
    "x_train, x_test, y_train, y_test = train_test_split(x, y)\n",
    "\n",
    "scaler = StandardScaler()\n",
    "scaler.fit(X=x_train)\n"
   ]
  },
  {
   "cell_type": "code",
   "execution_count": 5,
   "metadata": {},
   "outputs": [
    {
     "output_type": "execute_result",
     "data": {
      "text/plain": [
       "array([3.26474579e+07, 2.00206756e+03, 2.12026659e+00, 1.08637193e+02,\n",
       "       1.00462601e+04, 3.54649604e+07, 6.46256158e+00])"
      ]
     },
     "metadata": {},
     "execution_count": 5
    }
   ],
   "source": [
    "scaler.mean_"
   ]
  },
  {
   "cell_type": "code",
   "execution_count": 6,
   "metadata": {},
   "outputs": [
    {
     "output_type": "execute_result",
     "data": {
      "text/plain": [
       "array([4.09249071e+07, 1.19564932e+01, 7.21846233e-01, 2.27959064e+01,\n",
       "       1.57708667e+04, 4.83501941e+07, 1.06244938e+00])"
      ]
     },
     "metadata": {},
     "execution_count": 6
    }
   ],
   "source": [
    "# Get standard deviation\n",
    "scaler.scale_"
   ]
  },
  {
   "cell_type": "code",
   "execution_count": 7,
   "metadata": {},
   "outputs": [
    {
     "output_type": "stream",
     "name": "stdout",
     "text": [
      "0.5527832371922138\n0.5527832492148099\n"
     ]
    }
   ],
   "source": [
    "# Scale the data\n",
    "x_train_scaled, x_test_scaled = scaler.transform(X=x_train), scaler.transform(X=x_test)\n",
    "\n",
    "# Create two models with the normal and scaled data\n",
    "model = Lasso()\n",
    "scaled_model = Lasso()\n",
    "\n",
    "model.fit(X=x_train, y=y_train)\n",
    "scaled_model.fit(X=x_train_scaled, y=y_train)\n",
    "\n",
    "# Evaluate both models\n",
    "print(model.score(X=x_test, y=y_test))\n",
    "print(scaled_model.score(X=x_test_scaled, y=y_test))"
   ]
  },
  {
   "source": [
    "Note: Regression models are not affected by scaling, categorization models are."
   ],
   "cell_type": "markdown",
   "metadata": {}
  }
 ]
}