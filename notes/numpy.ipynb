{
  "cells": [
    {
      "cell_type": "markdown",
      "metadata": {
        "id": "0JY4nMfunLzj",
        "colab_type": "text"
      },
      "source": [
        "# NumPy\n",
        "\n",
        "[NumPy](https://numpy.org/) is a fundamental tool to scientific computing."
      ]
    },
    {
      "cell_type": "code",
      "metadata": {
        "id": "75TDM0bDeJK2",
        "colab_type": "code",
        "colab": {}
      },
      "source": [
        "# Import library\n",
        "import numpy as np"
      ],
      "execution_count": 97,
      "outputs": []
    },
    {
      "cell_type": "markdown",
      "metadata": {
        "id": "McWNa8mFozvB",
        "colab_type": "text"
      },
      "source": [
        "## Arrays\n",
        "\n",
        "NumPy allows you to work with N-dimensional array objects."
      ]
    },
    {
      "cell_type": "markdown",
      "metadata": {
        "id": "jAMtg2VGQKcQ",
        "colab_type": "text"
      },
      "source": [
        "### Create arrays"
      ]
    },
    {
      "cell_type": "code",
      "metadata": {
        "id": "8Uedp_Eko3F9",
        "colab_type": "code",
        "outputId": "d3981351-c6bb-4bec-a595-4ae0f4f495b6",
        "colab": {
          "base_uri": "https://localhost:8080/",
          "height": 35
        }
      },
      "source": [
        "# Using a python list\n",
        "np.array(object=[1, 2, 3, 4])"
      ],
      "execution_count": 79,
      "outputs": [
        {
          "output_type": "execute_result",
          "data": {
            "text/plain": [
              "array([1, 2, 3, 4])"
            ]
          },
          "metadata": {},
          "execution_count": 79
        }
      ]
    },
    {
      "cell_type": "code",
      "metadata": {
        "id": "ftz1bzyhrGUn",
        "colab_type": "code",
        "outputId": "50a829f1-f46b-4013-d7eb-246d949cb4ad",
        "colab": {
          "base_uri": "https://localhost:8080/",
          "height": 35
        }
      },
      "source": [
        "# Using \"arange\" function\n",
        "np.arange(start=10)"
      ],
      "execution_count": 80,
      "outputs": [
        {
          "output_type": "execute_result",
          "data": {
            "text/plain": [
              "array([0, 1, 2, 3, 4, 5, 6, 7, 8, 9])"
            ]
          },
          "metadata": {},
          "execution_count": 80
        }
      ]
    },
    {
      "cell_type": "code",
      "metadata": {
        "id": "hT5_SVrfrO7i",
        "colab_type": "code",
        "outputId": "8bc21518-a0c2-45aa-8be8-80c37dea9b86",
        "colab": {
          "base_uri": "https://localhost:8080/",
          "height": 143
        }
      },
      "source": [
        "# Using \"zeros\" function\n",
        "np.zeros(shape=(2, 3, 2))"
      ],
      "execution_count": 81,
      "outputs": [
        {
          "output_type": "execute_result",
          "data": {
            "text/plain": [
              "array([[[0., 0.],\n",
              "        [0., 0.],\n",
              "        [0., 0.]],\n",
              "\n",
              "       [[0., 0.],\n",
              "        [0., 0.],\n",
              "        [0., 0.]]])"
            ]
          },
          "metadata": {},
          "execution_count": 81
        }
      ]
    },
    {
      "cell_type": "code",
      "metadata": {
        "id": "i_Ed6Habyic3",
        "colab_type": "code",
        "outputId": "43e53c10-6630-4295-bd45-98cb2e46a1bb",
        "colab": {
          "base_uri": "https://localhost:8080/",
          "height": 71
        }
      },
      "source": [
        "# Using \"ones\" function\n",
        "np.ones(shape=(3, 4))"
      ],
      "execution_count": 82,
      "outputs": [
        {
          "output_type": "execute_result",
          "data": {
            "text/plain": [
              "array([[1., 1., 1., 1.],\n",
              "       [1., 1., 1., 1.],\n",
              "       [1., 1., 1., 1.]])"
            ]
          },
          "metadata": {},
          "execution_count": 82
        }
      ]
    },
    {
      "cell_type": "code",
      "metadata": {
        "id": "IX-P48zAK9-_",
        "colab_type": "code",
        "outputId": "870da3d2-2a64-443b-ffb6-facdbd32bf4f",
        "colab": {
          "base_uri": "https://localhost:8080/",
          "height": 35
        }
      },
      "source": [
        "# Using \"linspace\" function\n",
        "np.linspace(start=0, stop=1, num=11)"
      ],
      "execution_count": 83,
      "outputs": [
        {
          "output_type": "execute_result",
          "data": {
            "text/plain": [
              "array([0. , 0.1, 0.2, 0.3, 0.4, 0.5, 0.6, 0.7, 0.8, 0.9, 1. ])"
            ]
          },
          "metadata": {},
          "execution_count": 83
        }
      ]
    },
    {
      "cell_type": "markdown",
      "metadata": {
        "id": "3Q78_2AxPWRz",
        "colab_type": "text"
      },
      "source": [
        "### Dimension of arrays"
      ]
    },
    {
      "cell_type": "code",
      "metadata": {
        "id": "nEo8zf5lQ_m-",
        "colab_type": "code",
        "colab": {}
      },
      "source": [
        "# Get the dimension of an array (one dimension)\n",
        "one_dimension_array = np.array(object=[1, 2, 3, 4, 5])\n",
        "one_dimension_array.shape"
      ],
      "execution_count": 84,
      "outputs": [
        {
          "output_type": "execute_result",
          "data": {
            "text/plain": [
              "(5,)"
            ]
          },
          "metadata": {},
          "execution_count": 84
        }
      ]
    },
    {
      "cell_type": "code",
      "execution_count": 85,
      "metadata": {},
      "outputs": [
        {
          "output_type": "execute_result",
          "data": {
            "text/plain": [
              "(1, 5)"
            ]
          },
          "metadata": {},
          "execution_count": 85
        }
      ],
      "source": [
        "# Get the dimension of an array (two dimension)\n",
        "two_dimension_array = np.array(object=[[1, 2, 3, 4, 5]])\n",
        "two_dimension_array.shape"
      ]
    },
    {
      "cell_type": "code",
      "execution_count": 86,
      "metadata": {},
      "outputs": [
        {
          "output_type": "execute_result",
          "data": {
            "text/plain": [
              "False"
            ]
          },
          "metadata": {},
          "execution_count": 86
        }
      ],
      "source": [
        "# Compare two arrays\n",
        "np.array_equal(a1=one_dimension_array, a2=two_dimension_array)"
      ]
    },
    {
      "cell_type": "code",
      "execution_count": 87,
      "metadata": {},
      "outputs": [
        {
          "output_type": "execute_result",
          "data": {
            "text/plain": [
              "array([[1, 2, 3, 4, 5]])"
            ]
          },
          "metadata": {},
          "execution_count": 87
        }
      ],
      "source": [
        "# Reshape arrays\n",
        "new_shape = (1, one_dimension_array.shape[0])\n",
        "reshaped_array = one_dimension_array.reshape(new_shape)\n",
        "reshaped_array"
      ]
    },
    {
      "cell_type": "code",
      "execution_count": 88,
      "metadata": {},
      "outputs": [
        {
          "output_type": "execute_result",
          "data": {
            "text/plain": [
              "True"
            ]
          },
          "metadata": {},
          "execution_count": 88
        }
      ],
      "source": [
        "# Compare two arrays\n",
        "np.array_equal(a1=reshaped_array, a2=two_dimension_array)"
      ]
    },
    {
      "cell_type": "markdown",
      "metadata": {},
      "source": [
        "### Slicing"
      ]
    },
    {
      "cell_type": "code",
      "execution_count": 89,
      "metadata": {},
      "outputs": [
        {
          "output_type": "execute_result",
          "data": {
            "text/plain": [
              "array([[[0.70515405, 0.81089825],\n",
              "        [0.89456756, 0.31277029],\n",
              "        [0.77067591, 0.07898317]],\n",
              "\n",
              "       [[0.06963977, 0.37185172],\n",
              "        [0.91676208, 0.46179238],\n",
              "        [0.5804499 , 0.60262179]]])"
            ]
          },
          "metadata": {},
          "execution_count": 89
        }
      ],
      "source": [
        "# Create random three dimensional array\n",
        "three_dimensional_array = np.random.rand(2, 3, 2)\n",
        "three_dimensional_array"
      ]
    },
    {
      "cell_type": "code",
      "execution_count": 90,
      "metadata": {},
      "outputs": [
        {
          "output_type": "execute_result",
          "data": {
            "text/plain": [
              "array([[0.89456756, 0.77067591]])"
            ]
          },
          "metadata": {},
          "execution_count": 90
        }
      ],
      "source": [
        "# Using slicing with int and [:] notation\n",
        "three_dimensional_array[:1,1:,0]"
      ]
    },
    {
      "cell_type": "markdown",
      "metadata": {},
      "source": [
        "### Arithmetic operations"
      ]
    },
    {
      "cell_type": "code",
      "execution_count": 91,
      "metadata": {},
      "outputs": [
        {
          "output_type": "stream",
          "name": "stdout",
          "text": [
            "array      = [0 1 2 3 4]\narray + 5  = [5 6 7 8 9]\narray - 1  = [-1  0  1  2  3]\narray / 5  = [0.  0.2 0.4 0.6 0.8]\narray // 2 = [0 0 1 1 2]\n-array     = [ 0 -1 -2 -3 -4]\narray ** 2 = [ 0  1  4  9 16]\narray % 2  = [0 1 0 1 0]\n"
          ]
        }
      ],
      "source": [
        "array = np.arange(start=5)\n",
        "\n",
        "print(\"array      =\", array)\n",
        "print(\"array + 5  =\", array + 5)\n",
        "print(\"array - 1  =\", array - 1)\n",
        "print(\"array / 5  =\", array / 5)\n",
        "print(\"array // 2 =\", array // 2)\n",
        "print(\"-array     =\", -array)\n",
        "print(\"array ** 2 =\", array ** 2)\n",
        "print(\"array % 2  =\", array % 2)"
      ]
    },
    {
      "cell_type": "markdown",
      "metadata": {},
      "source": [
        "\n",
        "| Operator | Universal functions (ufunc) |\n",
        "| -------- | -------------------------- |\n",
        "|``+``     | ``np.add()``               |\n",
        "|``-``     | ``np.subtract()``          |\n",
        "|``*``     | ``np.multiply()``          |\n",
        "\n",
        "**Note**: Universal functions are executed using compiled C code."
      ]
    },
    {
      "cell_type": "code",
      "execution_count": 92,
      "metadata": {},
      "outputs": [
        {
          "output_type": "stream",
          "name": "stdout",
          "text": [
            "[ 1.          2.71828183  7.3890561  20.08553692 54.59815003]\n[      -inf 0.         0.69314718 1.09861229 1.38629436]\n[0.         1.         1.41421356 1.73205081 2.        ]\n[False False False False False]\n"
          ]
        }
      ],
      "source": [
        "# Other ufuncs\n",
        "print(np.exp(array))                # Exponential\n",
        "print(np.log(array))                # Natural logarithm\n",
        "print(np.sqrt(array))               # Square root\n",
        "print(np.greater(array, array))     # Greater"
      ]
    },
    {
      "cell_type": "markdown",
      "metadata": {},
      "source": [
        "### Performance"
      ]
    },
    {
      "cell_type": "code",
      "execution_count": 93,
      "metadata": {},
      "outputs": [
        {
          "output_type": "stream",
          "name": "stdout",
          "text": [
            "246 ms ± 3.15 ms per loop (mean ± std. dev. of 7 runs, 1 loop each)\n"
          ]
        }
      ],
      "source": [
        "%%timeit\n",
        "array = np.arange(start=1000000)\n",
        "zeros_array = np.zeros(shape=1000000)\n",
        "\n",
        "i = 0\n",
        "for item in array:\n",
        "    zeros_array[i] = item + item\n",
        "    i += 1"
      ]
    },
    {
      "cell_type": "code",
      "execution_count": 94,
      "metadata": {},
      "outputs": [
        {
          "output_type": "stream",
          "name": "stdout",
          "text": [
            "391 ns ± 5.96 ns per loop (mean ± std. dev. of 7 runs, 1000000 loops each)\n"
          ]
        }
      ],
      "source": [
        "%%timeit\n",
        "array + array"
      ]
    },
    {
      "cell_type": "markdown",
      "metadata": {},
      "source": [
        "### Statistics and randomness"
      ]
    },
    {
      "cell_type": "code",
      "execution_count": 95,
      "metadata": {},
      "outputs": [
        {
          "output_type": "stream",
          "name": "stdout",
          "text": [
            "4.5\n4.5\n3.6\n[0.77365046 0.84302356 0.2555429  0.5318994  0.46716859 0.22768869\n 0.15814208 0.90560498 0.34638337 0.97627776]\n"
          ]
        }
      ],
      "source": [
        "array = np.arange(start=10)\n",
        "\n",
        "print(np.mean(a=array))\n",
        "print(np.median(a=array))\n",
        "print(np.percentile(a=array, q=40))\n",
        "print(np.random.random(size=10))"
      ]
    }
  ],
  "metadata": {
    "colab": {
      "name": "numpy.ipynb",
      "provenance": [],
      "toc_visible": true
    },
    "kernelspec": {
      "name": "Python 3.8.5 64-bit ('.env': venv)",
      "display_name": "Python 3.8.5 64-bit ('.env': venv)",
      "metadata": {
        "interpreter": {
          "hash": "1eda70eb63267d6a504bae4891a6683f6e75cf0d73d057bbe2ec988b5593408d"
        }
      }
    }
  },
  "nbformat": 4,
  "nbformat_minor": 0
}